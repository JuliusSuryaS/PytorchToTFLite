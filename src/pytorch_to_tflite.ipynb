{
 "cells": [
  {
   "cell_type": "markdown",
   "metadata": {},
   "source": [
    "### Pytorch to TFLite Conversion Guide\n",
    "This is a simple guide to help conversion from Pytorch model to TFLite. The network weights is transferred from Pytorch model to Keras model, then converted into TFLite. <br>\n",
    "**Note : this guide does not contains automatic conversion, instead the model must be re-write into keras model.** <br>\n",
    "There are existing method to convert Pytorch model to Tensorflow via ONNX for example. I tried to use for my project but it does not work, so I figured a work around by rewriting the model manually."
   ]
  },
  {
   "cell_type": "code",
   "execution_count": null,
   "metadata": {},
   "outputs": [],
   "source": [
    "import os\n",
    "import sys\n",
    "import torch\n",
    "import torch.nn as nn\n",
    "import numpy as np\n",
    "import matplotlib.pyplot as plt\n",
    "import cv2\n",
    "import tensorflow as tf\n",
    "import tensorflow.keras.layers as kl\n",
    "from tensorflow.keras.models import *"
   ]
  },
  {
   "cell_type": "markdown",
   "metadata": {},
   "source": [
    "We define simple convolutional model with Pytorch and Keras model. Ideally for transfering the weight, the operation name between two model should be same. <br>\n",
    "However any name model should work with some modification.\n",
    "<pre>\n",
    "(Pytorch) - (Keras)\n",
    "  conv1   -  conv1\n",
    "  conv2   -  conv2\n",
    "</pre>"
   ]
  },
  {
   "cell_type": "code",
   "execution_count": null,
   "metadata": {},
   "outputs": [],
   "source": [
    "# Simple Pytorch model\n",
    "class PyModel(nn.Module):\n",
    "    def __init__(self):\n",
    "        super(PyModel, self).__init__()\n",
    "        self.conv1 = nn.Conv2d(3, 64, (3,3), 1, 1)\n",
    "        self.conv2 = nn.Sequential(\n",
    "            nn.Conv2d(64, 64, (3,3), 1,1),\n",
    "            nn.LeakyReLU(0.2),\n",
    "        )\n",
    "    \n",
    "    def forward(self, x):\n",
    "        out = self.conv1(x)\n",
    "        out = self.conv2(out)\n",
    "        return out\n",
    "    \n",
    "# Simple Keras model\n",
    "def KModel(inp_shape=[200, 200, 3]):\n",
    "    x = kl.Input(inp_shape)\n",
    "    net = kl.ZeroPadding2D((1,1))(x)\n",
    "    net = kl.Conv2D(64, 3, strides=(1,1), padding='valid', name='conv1')(net)\n",
    "    net = kl.ZeroPadding2D((1,1))(net)\n",
    "    net = kl.Conv2D(64, 3, strides=(1,1), padding='valid', name='conv2')(net)\n",
    "    net = kl.LeakyReLU(0.2)(net)\n",
    "    model = Model(inputs=x, outputs=net)\n",
    "    return model"
   ]
  },
  {
   "cell_type": "markdown",
   "metadata": {},
   "source": [
    "To transfer the weights, we define a function to load all weight and bias parameters into dictionary.\n",
    "The dictionary is used to transfer the weight to keras model within the same name. <br>\n",
    "Pytorch convolutional layer consists of weight and bias class attributes. Keras model defines the weight and bias using `list []`. <br>\n",
    "Keras `padding='same'` will result in different output with pytorch, therefore we must add padding to the convolutional layer."
   ]
  },
  {
   "cell_type": "code",
   "execution_count": null,
   "metadata": {},
   "outputs": [],
   "source": [
    "def transfer_weights(pymodel, kmodel):\n",
    "    # Create a weights dictionary\n",
    "    weights = {}\n",
    "    \n",
    "    # Loop over the pytorch model and store in dict\n",
    "    for name, module in pymodel._modules.items():\n",
    "        if isinstance(module, nn.Conv2d):\n",
    "            # Take weight and bias of convolutional model\n",
    "            # For the purpose of testing, we are setting the weight to be constant 1 and 0\n",
    "            w = module.weight.data.numpy()\n",
    "            b = module.bias.data.numpy()\n",
    "            # Store weight in bias in the dict\n",
    "            weights[name] = [w,b]\n",
    "        # Handle Sequential model\n",
    "        if isinstance(module, nn.Sequential):\n",
    "            for m in module:\n",
    "                if isinstance(m, nn.Conv2d):\n",
    "                    w = m.weight.data.numpy()\n",
    "                    b = m.bias.data.numpy()\n",
    "                    weights[name] = [w,b]\n",
    "\n",
    "    # Loop over the keras model\n",
    "    for lyr in kmodel.layers:\n",
    "        # Check if it contains trainable weights\n",
    "        if len(lyr.get_weights()) > 0:\n",
    "            if lyr.name in weights.keys():\n",
    "                # Set weights from dict and transpose the 'w' from NCHW - NHWC\n",
    "                [w,b] = weights[lyr.name]\n",
    "                lyr.set_weights([w.transpose(2,3,1,0), b])\n",
    "            else:\n",
    "                print(\"Missing\", lyr.name, \"key in dictionary\")"
   ]
  },
  {
   "cell_type": "markdown",
   "metadata": {},
   "source": [
    "Make sure to use `tensorflow.keras` instead of `keras`, or the model cannot be converted to TFLite format. <br>\n",
    "The current function is written to handle direct and sequential module only. To handle different variations like nested module, the function must be modified. The example is shown, below"
   ]
  },
  {
   "cell_type": "code",
   "execution_count": null,
   "metadata": {},
   "outputs": [],
   "source": [
    "class ConvBlock(nn.Module):\n",
    "    def __init__(self, inch, outch, ksz, st, pad):\n",
    "        super(ConvBlock, self).__init__()\n",
    "        self.block = nn.Sequential(\n",
    "            nn.Conv2d(inch, outch, ksz, st, pad),\n",
    "            nn.ReLU(),\n",
    "            nn.InstanceNorm2d(outch),\n",
    "        )\n",
    "    def forward(self, x):\n",
    "        out = self.block(x)\n",
    "        return out\n",
    "\n",
    "class PyModelBlock(nn.Module):\n",
    "    def __init__(self):\n",
    "        super(PyModelBlock, self).__init__()\n",
    "        self.conv_block1 = ConvBlock(3, 64, (3,3), 1, 1)\n",
    "        self.conv_blcok2 = ConvBlock(64, 64, (3,3), 1, 1)\n",
    "    \n",
    "    def forward(self, x):\n",
    "        out = self.conv_block1(x)\n",
    "        out = self.conv_block2(out)\n",
    "        return out"
   ]
  },
  {
   "cell_type": "markdown",
   "metadata": {},
   "source": [
    "Then to access the weights and bias, we need to got into the main module class name and access the nested module class name.\n",
    "```python\n",
    "for name, module in pymodel._modules.items():\n",
    "    main_module = module.block # Sequential module defines in `ConvBlock`\n",
    "    # or main_module[i] to access sequential module\n",
    "    for mod in main_module:\n",
    "        if isinstance(mod, nn.Conv2d):\n",
    "            w = mod.weight.data.numpy()\n",
    "            b = mod.bias.dataa.numpy()\n",
    "```\n",
    "The idea is to loop over the pytorch model and store every weights. You'll get the idea. <br>\n",
    "We use `_modules.items()`, but we can use any method to loop over the model like `named_parameters()` or `child()`."
   ]
  },
  {
   "cell_type": "markdown",
   "metadata": {},
   "source": [
    "### Converting the model to TFLite\n",
    "To convert the model to TFLite, we will use `TFLiteConverter` from tensorflow. It can handle different model such as keras model files."
   ]
  },
  {
   "cell_type": "code",
   "execution_count": null,
   "metadata": {},
   "outputs": [],
   "source": [
    "# Define the Pytorch and Keras model\n",
    "pmodel = PyModel()\n",
    "kmodel = KModel()\n",
    "# If we have pretrained Pytorch model, load them\n",
    "# pmodel.load_state_dict(torch.load(SOME_PYTORCH_MODEL))"
   ]
  },
  {
   "cell_type": "markdown",
   "metadata": {},
   "source": [
    "Next we transfer weights using the transfer weights function. We save the model into keras model format."
   ]
  },
  {
   "cell_type": "code",
   "execution_count": null,
   "metadata": {},
   "outputs": [],
   "source": [
    "transfer_weights(pmodel,kmodel)\n",
    "tf.keras.models.save_model(kmodel, '../models/keras_model.h5')"
   ]
  },
  {
   "cell_type": "markdown",
   "metadata": {},
   "source": [
    "### Verifying The Converted Model\n",
    "The conversion is finished until here. We need to verify if the model is converted successfully and yield same result with the Pytorch model."
   ]
  },
  {
   "cell_type": "code",
   "execution_count": null,
   "metadata": {},
   "outputs": [],
   "source": [
    "kmodel_ = tf.keras.models.load_model('../models/keras_model.h5')"
   ]
  },
  {
   "cell_type": "markdown",
   "metadata": {},
   "source": [
    "Prepare a dummy input for verification and forward the model."
   ]
  },
  {
   "cell_type": "code",
   "execution_count": null,
   "metadata": {},
   "outputs": [],
   "source": [
    "inp = torch.rand(1, 3, 200, 200) # NCHW\n",
    "inp_k = inp.numpy().transpose(0,2,3,1) # NHWC\n",
    "\n",
    "out_pytorch = pmodel(inp)\n",
    "out_pytorch = out_pytorch.detach().numpy().transpose(0,2,3,1)\n",
    "out_keras = kmodel_.predict(inp_k, batch_size=1)"
   ]
  },
  {
   "cell_type": "markdown",
   "metadata": {},
   "source": [
    "Verify the output from both models."
   ]
  },
  {
   "cell_type": "code",
   "execution_count": 9,
   "metadata": {},
   "outputs": [
    {
     "name": "stdout",
     "output_type": "stream",
     "text": [
      "Pytorch: (1, 200, 200, 64) Keras: (1, 200, 200, 64)\n",
      "Mean difference : 0.00000005061199814804\n"
     ]
    }
   ],
   "source": [
    "print('Pytorch:', out_pytorch.shape, 'Keras:', out_keras.shape)\n",
    "print('Mean difference : %.20f' % np.mean(np.abs(out_keras - out_pytorch)))"
   ]
  },
  {
   "cell_type": "markdown",
   "metadata": {},
   "source": [
    "We successfully converted the model to keras by transferring the weights."
   ]
  },
  {
   "cell_type": "markdown",
   "metadata": {},
   "source": [
    "### TFLite Conversion\n",
    "We convert the keras model to TFLite format and save it to file."
   ]
  },
  {
   "cell_type": "code",
   "execution_count": null,
   "metadata": {},
   "outputs": [],
   "source": [
    "converter = tf.lite.TFLiteConverter.from_keras_model_file('../models/keras_model.h5')\n",
    "tfmodel = converter.convert()\n",
    "with open('../models/tflite_model.tflite', 'wb') as f: \n",
    "    f.write(tfmodel)\n",
    "\n",
    "# You can compile the keras model before the conversion if you desired, just in case."
   ]
  },
  {
   "cell_type": "markdown",
   "metadata": {},
   "source": [
    "TFLite can be run in python, C++, ios and android. For the android tutorial using TFLite please check [here](./Android_TFLite_tutorial.md). <br>\n",
    "The last remaining step is to verify our tflite model, we will run the tflite inference using python."
   ]
  },
  {
   "cell_type": "code",
   "execution_count": null,
   "metadata": {},
   "outputs": [],
   "source": [
    "net = tf.lite.Interpreter(model_path='../models/tflite_model.tflite')\n",
    "net.allocate_tensors()\n",
    "\n",
    "inp_details = net.get_input_details() # Get the tensor operation name (dictionary)\n",
    "out_details = net.get_output_details() \n",
    "\n",
    "net.set_tensor(inp_details[0]['index'], value=inp_k)\n",
    "net.invoke()\n",
    "out = net.get_tensor(out_details[0]['index'])"
   ]
  },
  {
   "cell_type": "markdown",
   "metadata": {},
   "source": [
    "Verify the output of tflite model."
   ]
  },
  {
   "cell_type": "code",
   "execution_count": 12,
   "metadata": {},
   "outputs": [
    {
     "name": "stdout",
     "output_type": "stream",
     "text": [
      "Pytorch: (1, 200, 200, 64) TFLite (1, 200, 200, 64)\n",
      "Mean difference : 0.00000005379431655683\n"
     ]
    }
   ],
   "source": [
    "print('Pytorch:', out_pytorch.shape, 'TFLite', out.shape)\n",
    "print('Mean difference : %.20f' % np.mean(np.abs(out - out_pytorch)))"
   ]
  },
  {
   "cell_type": "markdown",
   "metadata": {},
   "source": [
    "We successfully converted the model to TFLite with."
   ]
  }
 ],
 "metadata": {
  "kernelspec": {
   "display_name": "Python 3",
   "language": "python",
   "name": "python3"
  },
  "language_info": {
   "codemirror_mode": {
    "name": "ipython",
    "version": 3
   },
   "file_extension": ".py",
   "mimetype": "text/x-python",
   "name": "python",
   "nbconvert_exporter": "python",
   "pygments_lexer": "ipython3",
   "version": "3.5.6"
  }
 },
 "nbformat": 4,
 "nbformat_minor": 2
}
